{
 "cells": [
  {
   "cell_type": "code",
   "execution_count": 1,
   "metadata": {},
   "outputs": [
    {
     "name": "stderr",
     "output_type": "stream",
     "text": [
      "Using TensorFlow backend.\n"
     ]
    }
   ],
   "source": [
    "#proudly created by Harsh Nagoriya\n",
    "import keras\n",
    "from keras.models import Sequential\n",
    "from keras.layers import Dense, Dropout, Flatten\n",
    "from keras.layers import Conv2D, MaxPooling2D\n",
    "from keras.utils import to_categorical\n",
    "from keras.preprocessing import image\n",
    "import numpy as np\n",
    "import pandas as pd\n",
    "import matplotlib.pyplot as plt\n",
    "from sklearn.model_selection import train_test_split\n",
    "from keras.utils import to_categorical\n",
    "from tqdm import tqdm\n",
    "import os\n",
    "import cv2"
   ]
  },
  {
   "cell_type": "code",
   "execution_count": 2,
   "metadata": {},
   "outputs": [],
   "source": [
    "DATADIR='D:\\\\HSNProjects\\\\ML\\\\Gujarati Character Recognition\\\\test'\n",
    "CATEGORIES = ['ALA','ANA','B','BHA','CH','CHH','D','DA','DH','DHA','F','G','GH','GNA','H','J','JH','K','KH','KSH','L','M','N','P','R','S','SH','SHH','T','TA','TH','THA','V','Y']"
   ]
  },
  {
   "cell_type": "code",
   "execution_count": 3,
   "metadata": {},
   "outputs": [],
   "source": [
    "for category in CATEGORIES :\n",
    "    path = os.path.join(DATADIR, category)\n",
    "    for img in os.listdir(path):\n",
    "        img_array = cv2.imread(os.path.join(path, img), cv2.IMREAD_GRAYSCALE)"
   ]
  },
  {
   "cell_type": "code",
   "execution_count": 4,
   "metadata": {},
   "outputs": [],
   "source": [
    "IMG_SIZE = 50\n",
    "training_data = []"
   ]
  },
  {
   "cell_type": "code",
   "execution_count": null,
   "metadata": {},
   "outputs": [],
   "source": []
  },
  {
   "cell_type": "code",
   "execution_count": 5,
   "metadata": {},
   "outputs": [],
   "source": [
    "def create_training_data():\n",
    "    for category in CATEGORIES :\n",
    "        path = os.path.join(DATADIR, category)\n",
    "        class_num = CATEGORIES.index(category)\n",
    "        for img in os.listdir(path):\n",
    "            try :\n",
    "                img_array = cv2.imread(os.path.join(path, img), cv2.IMREAD_GRAYSCALE)\n",
    "                new_array = cv2.resize(img_array, (IMG_SIZE, IMG_SIZE))\n",
    "                training_data.append([new_array, class_num])\n",
    "            except Exception as e:\n",
    "                pass"
   ]
  },
  {
   "cell_type": "code",
   "execution_count": 6,
   "metadata": {},
   "outputs": [],
   "source": [
    "create_training_data()"
   ]
  },
  {
   "cell_type": "code",
   "execution_count": 7,
   "metadata": {},
   "outputs": [],
   "source": [
    "import random\n",
    "random.shuffle(training_data)"
   ]
  },
  {
   "cell_type": "code",
   "execution_count": 8,
   "metadata": {},
   "outputs": [],
   "source": [
    "X = []\n",
    "y = []\n",
    "\n",
    "for features, label in training_data:\n",
    "    X.append(features)\n",
    "    y.append(label)\n",
    "    "
   ]
  },
  {
   "cell_type": "code",
   "execution_count": null,
   "metadata": {},
   "outputs": [],
   "source": []
  },
  {
   "cell_type": "code",
   "execution_count": 9,
   "metadata": {},
   "outputs": [],
   "source": [
    "import pickle\n",
    "#proudly created by Harsh Nagoriya\n",
    "X = np.array(X).reshape(-1, IMG_SIZE, IMG_SIZE, 1)\n",
    "\n",
    "pickle_out = open(\"X.pickle\", \"wb\")\n",
    "pickle.dump(X, pickle_out)\n",
    "pickle_out.close()"
   ]
  },
  {
   "cell_type": "code",
   "execution_count": 10,
   "metadata": {},
   "outputs": [],
   "source": [
    "pickle_out = open(\"y.pickle\", \"wb\")\n",
    "pickle.dump(y, pickle_out)\n",
    "pickle_out.close()"
   ]
  },
  {
   "cell_type": "code",
   "execution_count": 11,
   "metadata": {},
   "outputs": [],
   "source": [
    "pickle_in = open(\"X.pickle\", \"rb\")\n",
    "X = pickle.load(pickle_in)"
   ]
  },
  {
   "cell_type": "code",
   "execution_count": 12,
   "metadata": {},
   "outputs": [],
   "source": [
    "import tensorflow as tf \n",
    "from tensorflow.keras.models import Sequential\n",
    "from tensorflow.keras.layers import Dense, Dropout, Activation, Flatten, Conv2D, MaxPooling2D\n",
    "import pickle\n",
    "from keras.models import model_from_json\n",
    "from keras.models import load_model\n",
    "import matplotlib.pyplot as plt"
   ]
  },
  {
   "cell_type": "code",
   "execution_count": 13,
   "metadata": {},
   "outputs": [],
   "source": [
    "X = pickle.load(open(\"X.pickle\", \"rb\"))\n",
    "y = pickle.load(open(\"y.pickle\", \"rb\"))\n",
    "\n",
    "X = X/255.0\n",
    "#proudly created by Harsh Nagoriya\n",
    "model = Sequential()\n",
    "model.add(Conv2D(32, (3, 3), input_shape = X.shape[1:]))\n",
    "model.add(Activation(\"relu\"))\n",
    "model.add(MaxPooling2D(pool_size=(2,2)))\n",
    "\n",
    "model.add(Conv2D(64, (3, 3)))\n",
    "model.add(Activation(\"relu\"))\n",
    "model.add(MaxPooling2D(pool_size=(2,2)))\n",
    "\n",
    "model.add(Conv2D(64, (3, 3)))\n",
    "model.add(Activation(\"relu\"))\n",
    "model.add(MaxPooling2D(pool_size=(2,2)))\n",
    "model.add(Dropout(0.25))\n",
    "\n",
    "model.add(Flatten())\n",
    "model.add(Dense(128))\n",
    "model.add(Activation(\"relu\"))\n",
    "\n",
    "model.add(Dense(128))\n",
    "model.add(Activation(\"relu\"))\n",
    "\n",
    "model.add(Dense(34))\n",
    "model.add(Activation(\"softmax\"))\n",
    "\n",
    "model.compile(loss=\"sparse_categorical_crossentropy\",\n",
    "                optimizer=\"adam\",\n",
    "                metrics=[\"accuracy\"])\n",
    "\n"
   ]
  },
  {
   "cell_type": "code",
   "execution_count": null,
   "metadata": {},
   "outputs": [],
   "source": []
  },
  {
   "cell_type": "code",
   "execution_count": 23,
   "metadata": {},
   "outputs": [
    {
     "name": "stdout",
     "output_type": "stream",
     "text": [
      "Train on 3032 samples, validate on 337 samples\n",
      "Epoch 1/40\n",
      "3032/3032 [==============================] - 7s 2ms/sample - loss: 0.0236 - accuracy: 0.9967 - val_loss: 0.0020 - val_accuracy: 1.0000\n",
      "Epoch 2/40\n",
      "3032/3032 [==============================] - 6s 2ms/sample - loss: 0.0114 - accuracy: 0.9974 - val_loss: 0.0051 - val_accuracy: 1.0000\n",
      "Epoch 3/40\n",
      "3032/3032 [==============================] - 6s 2ms/sample - loss: 0.0087 - accuracy: 0.9980 - val_loss: 1.5836e-04 - val_accuracy: 1.0000\n",
      "Epoch 4/40\n",
      "3032/3032 [==============================] - 6s 2ms/sample - loss: 0.0111 - accuracy: 0.9977 - val_loss: 2.9442e-04 - val_accuracy: 1.0000\n",
      "Epoch 5/40\n",
      "3032/3032 [==============================] - 6s 2ms/sample - loss: 0.0238 - accuracy: 0.9934 - val_loss: 0.0102 - val_accuracy: 0.9970\n",
      "Epoch 6/40\n",
      "3032/3032 [==============================] - 6s 2ms/sample - loss: 0.0293 - accuracy: 0.9934 - val_loss: 0.0082 - val_accuracy: 1.0000\n",
      "Epoch 7/40\n",
      "3032/3032 [==============================] - 6s 2ms/sample - loss: 0.0208 - accuracy: 0.9957 - val_loss: 0.0196 - val_accuracy: 1.0000\n",
      "Epoch 8/40\n",
      "3032/3032 [==============================] - 6s 2ms/sample - loss: 0.0148 - accuracy: 0.9964 - val_loss: 0.0043 - val_accuracy: 1.0000\n",
      "Epoch 9/40\n",
      "3032/3032 [==============================] - 6s 2ms/sample - loss: 0.0185 - accuracy: 0.9954 - val_loss: 0.0026 - val_accuracy: 1.0000\n",
      "Epoch 10/40\n",
      "3032/3032 [==============================] - 6s 2ms/sample - loss: 0.0097 - accuracy: 0.9980 - val_loss: 0.0038 - val_accuracy: 1.0000\n",
      "Epoch 11/40\n",
      "3032/3032 [==============================] - 6s 2ms/sample - loss: 0.0113 - accuracy: 0.9974 - val_loss: 0.0086 - val_accuracy: 1.0000\n",
      "Epoch 12/40\n",
      "3032/3032 [==============================] - 6s 2ms/sample - loss: 0.0086 - accuracy: 0.9980 - val_loss: 0.0033 - val_accuracy: 1.0000\n",
      "Epoch 13/40\n",
      "3032/3032 [==============================] - 6s 2ms/sample - loss: 0.0084 - accuracy: 0.9980 - val_loss: 0.0015 - val_accuracy: 1.0000\n",
      "Epoch 14/40\n",
      "3032/3032 [==============================] - 6s 2ms/sample - loss: 0.0085 - accuracy: 0.9980 - val_loss: 0.0013 - val_accuracy: 1.0000\n",
      "Epoch 15/40\n",
      "3032/3032 [==============================] - 6s 2ms/sample - loss: 0.0077 - accuracy: 0.9980 - val_loss: 4.8690e-04 - val_accuracy: 1.0000\n",
      "Epoch 16/40\n",
      "3032/3032 [==============================] - 6s 2ms/sample - loss: 0.0098 - accuracy: 0.9980 - val_loss: 0.0030 - val_accuracy: 1.0000\n",
      "Epoch 17/40\n",
      "3032/3032 [==============================] - 6s 2ms/sample - loss: 0.0082 - accuracy: 0.9980 - val_loss: 0.0024 - val_accuracy: 1.0000\n",
      "Epoch 18/40\n",
      "3032/3032 [==============================] - 6s 2ms/sample - loss: 0.0088 - accuracy: 0.9980 - val_loss: 0.0037 - val_accuracy: 1.0000\n",
      "Epoch 19/40\n",
      "3032/3032 [==============================] - 6s 2ms/sample - loss: 0.0083 - accuracy: 0.9980 - val_loss: 0.0041 - val_accuracy: 1.0000\n",
      "Epoch 20/40\n",
      "3032/3032 [==============================] - 6s 2ms/sample - loss: 0.0075 - accuracy: 0.9980 - val_loss: 0.0031 - val_accuracy: 1.0000\n",
      "Epoch 21/40\n",
      "3032/3032 [==============================] - 6s 2ms/sample - loss: 0.0098 - accuracy: 0.9980 - val_loss: 0.0048 - val_accuracy: 1.0000\n",
      "Epoch 22/40\n",
      "3032/3032 [==============================] - 6s 2ms/sample - loss: 0.0277 - accuracy: 0.9947 - val_loss: 0.0071 - val_accuracy: 1.0000\n",
      "Epoch 23/40\n",
      "3032/3032 [==============================] - 6s 2ms/sample - loss: 0.0192 - accuracy: 0.9960 - val_loss: 0.0016 - val_accuracy: 1.0000\n",
      "Epoch 24/40\n",
      "3032/3032 [==============================] - 6s 2ms/sample - loss: 0.0216 - accuracy: 0.9960 - val_loss: 0.0042 - val_accuracy: 1.0000\n",
      "Epoch 25/40\n",
      "3032/3032 [==============================] - 6s 2ms/sample - loss: 0.0110 - accuracy: 0.9974 - val_loss: 0.0052 - val_accuracy: 1.0000\n",
      "Epoch 26/40\n",
      "3032/3032 [==============================] - 6s 2ms/sample - loss: 0.0111 - accuracy: 0.9974 - val_loss: 0.0055 - val_accuracy: 1.0000\n",
      "Epoch 27/40\n",
      "3032/3032 [==============================] - 6s 2ms/sample - loss: 0.0320 - accuracy: 0.9927 - val_loss: 0.0092 - val_accuracy: 1.0000\n",
      "Epoch 28/40\n",
      "3032/3032 [==============================] - 6s 2ms/sample - loss: 0.0299 - accuracy: 0.9937 - val_loss: 0.0035 - val_accuracy: 1.0000\n",
      "Epoch 29/40\n",
      "3032/3032 [==============================] - 6s 2ms/sample - loss: 0.0142 - accuracy: 0.9977 - val_loss: 0.0038 - val_accuracy: 1.0000\n",
      "Epoch 30/40\n",
      "3032/3032 [==============================] - 6s 2ms/sample - loss: 0.0143 - accuracy: 0.9977 - val_loss: 0.0039 - val_accuracy: 1.0000\n",
      "Epoch 31/40\n",
      "3032/3032 [==============================] - 6s 2ms/sample - loss: 0.0143 - accuracy: 0.9977 - val_loss: 0.0061 - val_accuracy: 1.0000\n",
      "Epoch 32/40\n",
      "3032/3032 [==============================] - 6s 2ms/sample - loss: 0.0083 - accuracy: 0.9980 - val_loss: 0.0021 - val_accuracy: 1.0000\n",
      "Epoch 33/40\n",
      "3032/3032 [==============================] - 6s 2ms/sample - loss: 0.0079 - accuracy: 0.9980 - val_loss: 0.0034 - val_accuracy: 1.0000\n",
      "Epoch 34/40\n",
      "3032/3032 [==============================] - 6s 2ms/sample - loss: 0.0085 - accuracy: 0.9980 - val_loss: 0.0032 - val_accuracy: 1.0000\n",
      "Epoch 35/40\n",
      "3032/3032 [==============================] - 6s 2ms/sample - loss: 0.0085 - accuracy: 0.9980 - val_loss: 0.0011 - val_accuracy: 1.0000\n",
      "Epoch 36/40\n",
      "3032/3032 [==============================] - 6s 2ms/sample - loss: 0.0096 - accuracy: 0.9974 - val_loss: 0.0055 - val_accuracy: 1.0000\n",
      "Epoch 37/40\n",
      "3032/3032 [==============================] - 6s 2ms/sample - loss: 0.0079 - accuracy: 0.9980 - val_loss: 0.0047 - val_accuracy: 1.0000\n",
      "Epoch 38/40\n",
      "3032/3032 [==============================] - 6s 2ms/sample - loss: 0.0074 - accuracy: 0.9977 - val_loss: 0.0013 - val_accuracy: 1.0000\n",
      "Epoch 39/40\n",
      "3032/3032 [==============================] - 6s 2ms/sample - loss: 0.0174 - accuracy: 0.9954 - val_loss: 0.0025 - val_accuracy: 1.0000\n",
      "Epoch 40/40\n",
      "3032/3032 [==============================] - 6s 2ms/sample - loss: 0.0184 - accuracy: 0.9960 - val_loss: 0.0044 - val_accuracy: 1.0000\n",
      "Saved model to disk\n",
      "INFO:tensorflow:Assets written to: CNN.model\\assets\n"
     ]
    }
   ],
   "source": [
    "history = model.fit(x=np.array(X), y=np.array(y), batch_size=33, epochs=40, validation_split=0.1)\n",
    "\n",
    "model_json = model.to_json()\n",
    "with open(\"model.json\", \"w\") as json_file :\n",
    "    json_file.write(model_json)\n",
    "\n",
    "model.save_weights(\"model.h5\")\n",
    "print(\"Saved model to disk\")\n",
    "#proudly created by Harsh Nagoriya\n",
    "model.save('CNN.model')\n",
    "\n"
   ]
  },
  {
   "cell_type": "code",
   "execution_count": 24,
   "metadata": {},
   "outputs": [
    {
     "name": "stdout",
     "output_type": "stream",
     "text": [
      "dict_keys(['loss', 'accuracy', 'val_loss', 'val_accuracy'])\n"
     ]
    },
    {
     "data": {
      "text/plain": [
       "<matplotlib.legend.Legend at 0x1bfc5a29898>"
      ]
     },
     "execution_count": 24,
     "metadata": {},
     "output_type": "execute_result"
    },
    {
     "data": {
      "image/png": "[encoded data removed]",
      "text/plain": [
       "<Figure size 432x288 with 1 Axes>"
      ]
     },
     "metadata": {
      "needs_background": "light"
     },
     "output_type": "display_data"
    }
   ],
   "source": [
    "print(history.history.keys())\n",
    "plt.figure(1)\n",
    "plt.plot(history.history['accuracy'])\n",
    "plt.plot(history.history['val_accuracy'])\n",
    "plt.title('model accuracy')\n",
    "plt.ylabel('accuracy')\n",
    "plt.xlabel('epoch')\n",
    "plt.legend(['train', 'validation'], loc='upper left')"
   ]
  },
  {
   "cell_type": "code",
   "execution_count": 25,
   "metadata": {},
   "outputs": [],
   "source": [
    "def xprepare(file):\n",
    "    IMG_SIZE = 50\n",
    "    img_array = cv2.imread(file, cv2.IMREAD_GRAYSCALE)\n",
    "    new_array = cv2.resize(img_array, (IMG_SIZE, IMG_SIZE))\n",
    "    plt.imshow(new_array)\n",
    "    return new_array.reshape(-1, IMG_SIZE, IMG_SIZE, 1)\n",
    "#proudly created by Harsh Nagoriya"
   ]
  },
  {
   "cell_type": "code",
   "execution_count": 26,
   "metadata": {
    "scrolled": false
   },
   "outputs": [
    {
     "name": "stdout",
     "output_type": "stream",
     "text": [
      "ALA\n"
     ]
    },
    {
     "data": {
      "image/png": "[encoded data removed]",
      "text/plain": [
       "<Figure size 432x288 with 1 Axes>"
      ]
     },
     "metadata": {
      "needs_background": "light"
     },
     "output_type": "display_data"
    }
   ],
   "source": [
    "#proudly created by Harsh Nagoriya\n",
    "model = tf.keras.models.load_model(\"CNN.model\")\n",
    "image = \"D:\\\\HSNProjects\\\\ML\\\\Gujarati Character Recognition\\\\check\\\\ala.png\"\n",
    "image=xprepare(image)\n",
    "prediction = model.predict([image])\n",
    "prediction = list(prediction[0])\n",
    "print(CATEGORIES[prediction.index(max(prediction))])"
   ]
  },
  {
   "cell_type": "code",
   "execution_count": 27,
   "metadata": {},
   "outputs": [
    {
     "name": "stdout",
     "output_type": "stream",
     "text": [
      "DH\n"
     ]
    },
    {
     "data": {
      "image/png": "[encoded data removed]",
      "text/plain": [
       "<Figure size 432x288 with 1 Axes>"
      ]
     },
     "metadata": {
      "needs_background": "light"
     },
     "output_type": "display_data"
    }
   ],
   "source": [
    "#proudly created by Harsh Nagoriya\n",
    "model = tf.keras.models.load_model(\"CNN.model\")\n",
    "image = \"D:\\\\HSNProjects\\\\ML\\\\Gujarati Character Recognition\\\\check\\\\Untitled.png\"\n",
    "image=xprepare(image)\n",
    "prediction = model.predict([image])\n",
    "prediction = list(prediction[0])\n",
    "print(CATEGORIES[prediction.index(max(prediction))])"
   ]
  },
  {
   "cell_type": "code",
   "execution_count": 44,
   "metadata": {},
   "outputs": [
    {
     "name": "stdout",
     "output_type": "stream",
     "text": [
      "GNA\n"
     ]
    },
    {
     "data": {
      "image/png": "[encoded data removed]",
      "text/plain": [
       "<Figure size 432x288 with 1 Axes>"
      ]
     },
     "metadata": {
      "needs_background": "light"
     },
     "output_type": "display_data"
    }
   ],
   "source": [
    "#proudly created by Harsh Nagoriya\n",
    "model = tf.keras.models.load_model(\"D:\\\\HSNProjects\\\\ML\\\\Gujarati Character Recognition\\\\CNN.model\")\n",
    "image = \"D:\\\\HSNProjects\\\\ML\\\\Gujarati Character Recognition\\\\check\\\\Untitled1.png\"\n",
    "image=xprepare(image)\n",
    "prediction = model.predict([image])\n",
    "prediction = list(prediction[0])\n",
    "print(CATEGORIES[prediction.index(max(prediction))])"
   ]
  },
  {
   "cell_type": "code",
   "execution_count": 48,
   "metadata": {},
   "outputs": [
    {
     "name": "stdout",
     "output_type": "stream",
     "text": [
      "N\n"
     ]
    },
    {
     "data": {
      "image/png": "[encoded data removed]",
      "text/plain": [
       "<Figure size 432x288 with 1 Axes>"
      ]
     },
     "metadata": {
      "needs_background": "light"
     },
     "output_type": "display_data"
    }
   ],
   "source": [
    "#proudly created by Harsh Nagoriya\n",
    "model = tf.keras.models.load_model(\"D:\\\\HSNProjects\\\\ML\\\\Gujarati Character Recognition\\\\CNN.model\")\n",
    "image = \"D:\\\\HSNProjects\\\\ML\\\\Gujarati Character Recognition\\\\check\\\\Untitled2.png\"\n",
    "image=xprepare(image)\n",
    "prediction = model.predict([image])\n",
    "prediction = list(prediction[0])\n",
    "print(CATEGORIES[prediction.index(max(prediction))])"
   ]
  },
  {
   "cell_type": "code",
   "execution_count": null,
   "metadata": {},
   "outputs": [],
   "source": []
  },
  {
   "cell_type": "code",
   "execution_count": null,
   "metadata": {},
   "outputs": [],
   "source": []
  }
 ],
 "metadata": {
  "kernelspec": {
   "display_name": "Python 3",
   "language": "python",
   "name": "python3"
  },
  "language_info": {
   "codemirror_mode": {
    "name": "ipython",
    "version": 3
   },
   "file_extension": ".py",
   "mimetype": "text/x-python",
   "name": "python",
   "nbconvert_exporter": "python",
   "pygments_lexer": "ipython3",
   "version": "3.6.10"
  }
 },
 "nbformat": 4,
 "nbformat_minor": 4
}
